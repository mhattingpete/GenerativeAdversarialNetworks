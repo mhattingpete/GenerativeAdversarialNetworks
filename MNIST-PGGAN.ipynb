{
 "cells": [
  {
   "cell_type": "markdown",
   "metadata": {},
   "source": [
    "# PGGAN for MNIST\n",
    "\n",
    "### Left to do\n",
    "- Implement progressive training\n",
    "- Implement a fade procedure"
   ]
  },
  {
   "cell_type": "markdown",
   "metadata": {},
   "source": [
    "## Imports"
   ]
  },
  {
   "cell_type": "code",
   "execution_count": 1,
   "metadata": {},
   "outputs": [
    {
     "name": "stdout",
     "output_type": "stream",
     "text": [
      "cpu\n"
     ]
    }
   ],
   "source": [
    "import torch\n",
    "import os\n",
    "\n",
    "os.environ[\"CUDA_VISIBLE_DEVICES\"] = \"1\"\n",
    "\n",
    "import matplotlib\n",
    "import numpy as np\n",
    "import matplotlib.pyplot as plt\n",
    "%matplotlib inline\n",
    "from viz import updatable_display2\n",
    "\n",
    "import torch.nn as nn\n",
    "import torch.autograd as autograd\n",
    "import torch.nn.functional as F\n",
    "from torch import nn, optim\n",
    "from torchvision import transforms, datasets\n",
    "from torch.utils.data import DataLoader\n",
    "\n",
    "from generators import PGGenerator\n",
    "from discriminators import PGDiscriminator\n",
    "from utils import img2vec,vec2img,sample_noise,true_target,fake_target\n",
    "\n",
    "device = torch.device(\"cuda\" if torch.cuda.is_available() else \"cpu\")\n",
    "\n",
    "print(device)"
   ]
  },
  {
   "cell_type": "markdown",
   "metadata": {},
   "source": [
    "## Dataset loading"
   ]
  },
  {
   "cell_type": "code",
   "execution_count": 2,
   "metadata": {},
   "outputs": [],
   "source": [
    "compose = transforms.Compose([transforms.ToTensor(),transforms.Normalize((.5, .5, .5), (.5, .5, .5))])\n",
    "dataset = datasets.MNIST(root='MNIST',train=True,transform=compose,download=True)"
   ]
  },
  {
   "cell_type": "markdown",
   "metadata": {},
   "source": [
    "### Input scaling"
   ]
  },
  {
   "cell_type": "code",
   "execution_count": 3,
   "metadata": {},
   "outputs": [],
   "source": [
    "def scale_to_res(x,res):\n",
    "    batch_size = x.size(0)\n",
    "    transform = transforms.Compose([\n",
    "        transforms.ToPILImage(),\n",
    "        transforms.Resize(size=int(res),interpolation=0),# 0: nearest\n",
    "        transforms.ToTensor()\n",
    "    ])\n",
    "    x_0 = torch.zeros(batch_size,x.size(1),res,res)\n",
    "    for i in range(batch_size):\n",
    "        x_0[i] = transform(x[i])\n",
    "    return x_0.to(device)"
   ]
  },
  {
   "cell_type": "markdown",
   "metadata": {},
   "source": [
    "### WGAN-GP: gradients penalty"
   ]
  },
  {
   "cell_type": "code",
   "execution_count": 4,
   "metadata": {},
   "outputs": [],
   "source": [
    "LAMBDA = 10 # recommended value from the original paper\n",
    "\n",
    "def calc_gradient_penalty(discriminator,real_data,fake_data,current_alpha):\n",
    "    batch_size = real_data.size(0)\n",
    "    alpha = torch.rand(batch_size,1)\n",
    "    alpha = alpha.expand(real_data.size())\n",
    "    alpha = alpha.to(device) \n",
    "    \n",
    "    interpolates = alpha * real_data + ((1 - alpha) * fake_data)\n",
    "    interpolates = autograd.Variable(interpolates,requires_grad=True)\n",
    "    interpolates = interpolates.to(device)\n",
    "    \n",
    "    disc_interpolates = discriminator(vec2img(interpolates,image_size),current_alpha).view(-1)\n",
    "\n",
    "    gradients = autograd.grad(outputs=disc_interpolates,inputs=interpolates,\n",
    "                              grad_outputs=torch.ones(batch_size).to(device),\n",
    "                              create_graph=True,retain_graph=True,only_inputs=True)[0]\n",
    "    gradient_penalty = ((gradients.norm(p=2,dim=1)-1)**2).mean()*LAMBDA\n",
    "    return gradient_penalty"
   ]
  },
  {
   "cell_type": "markdown",
   "metadata": {},
   "source": [
    "## Training setup"
   ]
  },
  {
   "cell_type": "code",
   "execution_count": 5,
   "metadata": {},
   "outputs": [],
   "source": [
    "batch_size = 128\n",
    "m = int(np.sqrt(batch_size))-1 # the sqrt of number of test samples\n",
    "\n",
    "lr = 1e-3\n",
    "dropout_prob = 0.2\n",
    "\n",
    "noise_dim = 32\n",
    "output_size = 1\n",
    "\n",
    "clipping_value = 1e-2\n",
    "\n",
    "image_size = 4\n",
    "\n",
    "max_blocks = 5\n",
    "\n",
    "num_test_samples = m**2\n",
    "test_noise = sample_noise(num_test_samples,noise_dim,device)[:,:,None,None]\n",
    "\n",
    "# intialize models\n",
    "generator = PGGenerator(input_size=noise_dim,output_size=output_size).to(device)\n",
    "discriminator = PGDiscriminator(input_size=output_size,hidden_size=32).to(device)\n",
    "\n",
    "# optimizers\n",
    "g_optimizer = optim.Adam(generator.parameters(),lr=lr)\n",
    "d_optimizer = optim.Adam(discriminator.parameters(),lr=lr)\n",
    "\n",
    "# data loader\n",
    "data_loader = DataLoader(dataset,batch_size=batch_size,shuffle=True)\n",
    "\n",
    "# Create logger instance\n",
    "dis = updatable_display2(['train'],[\"epoch\",\"d_error\",\"g_error\"])\n",
    "# Total number of epochs to train\n",
    "num_epochs = 100\n",
    "global_step = 0\n",
    "epoch = 0\n",
    "d_error = 0\n",
    "g_error = 0"
   ]
  },
  {
   "cell_type": "markdown",
   "metadata": {},
   "source": [
    "### Train Generator"
   ]
  },
  {
   "cell_type": "code",
   "execution_count": 6,
   "metadata": {},
   "outputs": [],
   "source": [
    "def train_generator(noise,optimizer,current_alpha):\n",
    "    '''\n",
    "    Train the generator to generate realistic samples and thereby fool the discriminator\n",
    "    '''\n",
    "    # Reset gradients\n",
    "    optimizer.zero_grad()\n",
    "    \n",
    "    # Sample noise and generate fake data\n",
    "    prediction = discriminator(noise,current_alpha)\n",
    "    loss = - torch.mean(prediction)\n",
    "    loss.backward()\n",
    "    optimizer.step()\n",
    "    return loss"
   ]
  },
  {
   "cell_type": "markdown",
   "metadata": {},
   "source": [
    "### Train Discriminator"
   ]
  },
  {
   "cell_type": "code",
   "execution_count": 7,
   "metadata": {},
   "outputs": [],
   "source": [
    "def train_discriminator(real_data,fake_data,optimizer,current_alpha):\n",
    "    '''\n",
    "    Train the discriminator to distinguish between real and fake data\n",
    "    '''\n",
    "    # Reset gradients\n",
    "    optimizer.zero_grad()\n",
    "\n",
    "    # 1.1 Train on Real Data\n",
    "    prediction_real = discriminator(real_data)\n",
    "\n",
    "    # 1.2 Train on Fake Data\n",
    "    prediction_fake = discriminator(fake_data)\n",
    "    \n",
    "    # gradients penalty (Lipschitz condition) (WGAN-GP)\n",
    "    batch_size = real_data.size(0)\n",
    "    penalty = calc_gradient_penalty(discriminator,real_data.view(batch_size,-1),fake_data.view(batch_size,-1),current_alpha)\n",
    "    loss = prediction_fake.mean() - prediction_real.mean() + penalty\n",
    "    loss.backward()\n",
    "    \n",
    "    # 1.3 Update weights with gradients\n",
    "    optimizer.step()\n",
    "    \n",
    "    # 1.4 clip D parameters (Lipschitz condition) (orignal WGAN)\n",
    "    #for p in discriminator.parameters():\n",
    "    #    p.data.clamp_(-clipping_value, clipping_value)\n",
    "    \n",
    "    return loss"
   ]
  },
  {
   "cell_type": "markdown",
   "metadata": {},
   "source": [
    "## Train the model"
   ]
  },
  {
   "cell_type": "code",
   "execution_count": 8,
   "metadata": {
    "scrolled": false
   },
   "outputs": [
    {
     "data": {
      "image/png": "[encoded data removed]",
      "text/plain": [
       "<Figure size 1080x360 with 3 Axes>"
      ]
     },
     "metadata": {},
     "output_type": "display_data"
    },
    {
     "data": {
      "text/plain": [
       "<Figure size 432x288 with 0 Axes>"
      ]
     },
     "metadata": {},
     "output_type": "display_data"
    },
    {
     "data": {
      "image/png": "[encoded data removed]",
      "text/plain": [
       "<Figure size 720x720 with 1 Axes>"
      ]
     },
     "metadata": {},
     "output_type": "display_data"
    }
   ],
   "source": [
    "gen_steps = 1\n",
    "gen_train_freq = 5\n",
    "fade = 0\n",
    "fade_freq = 20\n",
    "alpha = torch.linspace(0,1,steps=fade_freq)\n",
    "num_blocks = 1\n",
    "\n",
    "try:\n",
    "    while epoch < num_epochs:\n",
    "        if epoch % fade_freq:\n",
    "            # switch fade status\n",
    "            fade = 0 if (fade or num_blocks >= max_blocks) else 1\n",
    "            if fade:\n",
    "                # update image_size\n",
    "                image_size *= 2\n",
    "                # update models\n",
    "                generator.create_next_block(generator.input_size*2)\n",
    "                discriminator.create_next_block(discriminator.block_output_size*2)\n",
    "                # update optimizers\n",
    "                g_optimizer = optim.Adam(generator.parameters(),lr=lr)\n",
    "                d_optimizer = optim.Adam(discriminator.parameters(),lr=lr)\n",
    "                num_blocks += 1\n",
    "        # find the current alpha value, and only use it if fade is true\n",
    "        if fade:\n",
    "            current_alpha = alpha[epoch%fade_freq]\n",
    "        else:\n",
    "            current_alpha = 1.0\n",
    "        for n_batch,(real_batch,_) in enumerate(data_loader):\n",
    "            N = real_batch.size(0)\n",
    "            # 1. Train Discriminator\n",
    "            real_data = scale_to_res(real_batch,image_size).to(device)\n",
    "            # Generate fake data and detach \n",
    "            # (so gradients are not calculated for generator)\n",
    "            noise_tensor = sample_noise(N,noise_dim,device)[:,:,None,None]\n",
    "            with torch.no_grad():\n",
    "                fake_data = generator(noise_tensor,current_alpha).detach()\n",
    "            # Train D\n",
    "            d_error = train_discriminator(real_data,fake_data,d_optimizer,current_alpha)\n",
    "\n",
    "            # 2. Train Generator every 'gen_train_freq' steps\n",
    "            if global_step % gen_train_freq == 0:\n",
    "                for _ in range(gen_steps):\n",
    "                    # Generate fake data\n",
    "                    fake_data = generator(sample_noise(N,noise_dim,device)[:,:,None,None],current_alpha)\n",
    "                    # Train G\n",
    "                    g_error = train_generator(fake_data,g_optimizer,current_alpha)\n",
    "                    g_error = g_error.item()\n",
    "\n",
    "            # Log batch error and delete tensors\n",
    "            dis.update(global_step,'train',{\"epoch\":epoch,\"d_error\":d_error.item(),\"g_error\":g_error} )\n",
    "            global_step += 1\n",
    "            del fake_data\n",
    "            del real_data\n",
    "            del noise_tensor\n",
    "\n",
    "            # Display Progress every few batches\n",
    "            if global_step % 50 == 0:\n",
    "                test_images = vec2img(generator(test_noise,current_alpha),image_size)\n",
    "                test_images = test_images.data\n",
    "                canvas = np.zeros((image_size*m,image_size*m))\n",
    "                q = 0\n",
    "                for i in range(m):\n",
    "                    for j in range(m):\n",
    "                        canvas[i*image_size:(i+1)*image_size,j*image_size:(j+1)*image_size] = test_images[q]\n",
    "                        q += 1\n",
    "                dis.display(scale=False)\n",
    "                plt.figure(figsize=(10,10))\n",
    "                plt.imshow(canvas,cmap='gray')\n",
    "                plt.axis(\"off\")\n",
    "                if epoch % 50 == 0:\n",
    "                    plt.savefig(\"Figures/PGGAN-MNIST-Epoch=\"+str(epoch)+\".png\")\n",
    "                plt.show()\n",
    "        epoch += 1\n",
    "except:\n",
    "    test_images = vec2img(generator(test_noise,current_alpha),image_size)\n",
    "    test_images = test_images.data\n",
    "    canvas = np.zeros((image_size*m,image_size*m))\n",
    "    q = 0\n",
    "    for i in range(m):\n",
    "        for j in range(m):\n",
    "            canvas[i*image_size:(i+1)*image_size,j*image_size:(j+1)*image_size] = test_images[q]\n",
    "            q+=1\n",
    "    dis.display(scale=False)\n",
    "    plt.figure(figsize=(10,10))\n",
    "    plt.imshow(canvas,cmap='gray')\n",
    "    plt.axis(\"off\")\n",
    "    plt.savefig(\"Figures/PGGAN-MNIST.png\")\n",
    "    plt.show()"
   ]
  }
 ],
 "metadata": {
  "kernelspec": {
   "display_name": "Python 3",
   "language": "python",
   "name": "python3"
  },
  "language_info": {
   "codemirror_mode": {
    "name": "ipython",
    "version": 3
   },
   "file_extension": ".py",
   "mimetype": "text/x-python",
   "name": "python",
   "nbconvert_exporter": "python",
   "pygments_lexer": "ipython3",
   "version": "3.6.5"
  }
 },
 "nbformat": 4,
 "nbformat_minor": 2
}
